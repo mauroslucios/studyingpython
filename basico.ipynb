{
 "cells": [
  {
   "cell_type": "markdown",
   "metadata": {},
   "source": [
    "<h1>Passo a passo de solução do desafio</h1>"
   ]
  },
  {
   "cell_type": "code",
   "execution_count": 9,
   "metadata": {},
   "outputs": [
    {
     "data": {
      "text/plain": [
       "['Devolucoes - Porto Alegre.csv',\n",
       " 'Vendas - São Paulo.csv',\n",
       " 'Devolucoes - Recife.csv',\n",
       " 'Vendas - Goiás.csv',\n",
       " 'Devolucoes - Curitiba.csv',\n",
       " 'Devolucoes - Goiás.csv',\n",
       " 'Vendas - Belo Horizonte.csv',\n",
       " 'Vendas - Recife.csv',\n",
       " 'Vendas - Salvador.csv',\n",
       " 'Vendas - Porto Alegre.csv',\n",
       " 'Devolucoes - São Paulo.csv',\n",
       " 'Vendas - Fortaleza.csv',\n",
       " 'Vendas - Rio de Janeiro.csv',\n",
       " 'Vendas - Curitiba.csv',\n",
       " 'Devolucoes - Salvador.csv',\n",
       " 'Devolucoes - Belo Horizonte.csv',\n",
       " 'Devolucoes - Rio de Janeiro.csv',\n",
       " 'Devolucoes - Fortaleza.csv']"
      ]
     },
     "metadata": {},
     "output_type": "display_data"
    }
   ],
   "source": [
    "# Lógica de programação\n",
    "# Passo 0 - Entender o desafio que você quer resolver\n",
    "# Passo 1 - Percorrer todos os arquivos da pasta base de dados (Pasta vendas)\n",
    "import os\n",
    "lista_arquivos = os.listdir(\"Vendas\")\n",
    "display(lista_arquivos)\n",
    "# Passo 2 - Importar as bases de dados de vendas\n",
    "# Passo 3 - Tratar / compilar as bases de dados\n",
    "# Passo 4 - Calcular o produto mais vendido (em quantidade)\n",
    "# Passo 5 - Calcular o produto que mais fatirou (em faturamento)\n",
    "# Passo 6 - Calcular a loja/cidade que mais vendeu (em faturamento) - criar gráfico/dashboard\n"
   ]
  }
 ],
 "metadata": {
  "kernelspec": {
   "display_name": "Python 3",
   "language": "python",
   "name": "python3"
  },
  "language_info": {
   "codemirror_mode": {
    "name": "ipython",
    "version": 3
   },
   "file_extension": ".py",
   "mimetype": "text/x-python",
   "name": "python",
   "nbconvert_exporter": "python",
   "pygments_lexer": "ipython3",
   "version": "3.7.3"
  }
 },
 "nbformat": 4,
 "nbformat_minor": 2
}
