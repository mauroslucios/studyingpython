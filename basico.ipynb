{
 "cells": [
  {
   "cell_type": "markdown",
   "metadata": {},
   "source": [
    "<h1>Passo a passo de solução do desafio</h1>"
   ]
  },
  {
   "cell_type": "code",
   "execution_count": null,
   "metadata": {},
   "outputs": [],
   "source": [
    "# Lógica de programação\n",
    "# Passo 0 - Entender o desafio que você quer resolver\n",
    "# Passo 1 - Percorrer todos os arquivos da pasta base de dados (Pasta vendas)\n",
    "# Passo 2 - Importar as bases de dados de vendas\n",
    "# Passo 3 - Tratar / compilar as bases de dados\n",
    "# Passo 4 - Calcular o produto mais vendido (em quantidade)\n",
    "# Passo 5 - Calcular o produto que mais fatirou (em faturamento)\n",
    "# Passo 6 - Calcular a loja/cidade que mais vendeu (em faturamento) - criar gráfico/dashboard\n"
   ]
  }
 ],
 "metadata": {
  "kernelspec": {
   "display_name": "Python 3",
   "language": "python",
   "name": "python3"
  },
  "language_info": {
   "codemirror_mode": {
    "name": "ipython",
    "version": 3
   },
   "file_extension": ".py",
   "mimetype": "text/x-python",
   "name": "python",
   "nbconvert_exporter": "python",
   "pygments_lexer": "ipython3",
   "version": "3.7.3"
  }
 },
 "nbformat": 4,
 "nbformat_minor": 2
}
